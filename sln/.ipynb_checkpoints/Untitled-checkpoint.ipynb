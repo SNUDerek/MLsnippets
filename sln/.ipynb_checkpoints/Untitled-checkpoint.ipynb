{
 "cells": [
  {
   "cell_type": "code",
   "execution_count": 2,
   "metadata": {
    "collapsed": true,
    "deletable": true,
    "editable": true
   },
   "outputs": [],
   "source": [
    "import numpy as np"
   ]
  },
  {
   "cell_type": "code",
   "execution_count": 3,
   "metadata": {
    "collapsed": true,
    "deletable": true,
    "editable": true
   },
   "outputs": [],
   "source": [
    "x_data = np.array([1,2,3,4,5,6,7,8,9])\n",
    "y_data = np.array([2,4,6,8,10,12,14,16,18])"
   ]
  },
  {
   "cell_type": "code",
   "execution_count": 31,
   "metadata": {
    "collapsed": true,
    "deletable": true,
    "editable": true
   },
   "outputs": [],
   "source": [
    "def dataGenerator(x_data, y_data, batch_size):\n",
    "\n",
    "    i = 0\n",
    "    # shuffle indices\n",
    "    order = np.random.permutation(len(y_data))\n",
    "    \n",
    "    while True:\n",
    "        x_batch = x_data[order[i:i+batch_size]]\n",
    "        y_batch = y_data[order[i:i+batch_size]]\n",
    "        \n",
    "        yield (x_batch, y_batch)\n",
    "        \n",
    "        if i + batch_size >= len(y_data)-1:\n",
    "            order = np.random.permutation(len(y_data))\n",
    "            i = 0\n",
    "        else:\n",
    "            i += batch_size"
   ]
  },
  {
   "cell_type": "code",
   "execution_count": 32,
   "metadata": {
    "collapsed": true,
    "deletable": true,
    "editable": true
   },
   "outputs": [],
   "source": [
    "gen = dataGenerator(x_data, y_data, 2)"
   ]
  },
  {
   "cell_type": "code",
   "execution_count": 33,
   "metadata": {
    "collapsed": false,
    "deletable": true,
    "editable": true
   },
   "outputs": [
    {
     "name": "stdout",
     "output_type": "stream",
     "text": [
      "(array([6, 8]), array([12, 16]))\n",
      "(array([7, 4]), array([14,  8]))\n",
      "(array([3, 1]), array([6, 2]))\n",
      "(array([2, 9]), array([ 4, 18]))\n",
      "(array([5, 4]), array([10,  8]))\n",
      "(array([3, 2]), array([6, 4]))\n",
      "(array([8, 6]), array([16, 12]))\n",
      "(array([7, 1]), array([14,  2]))\n",
      "(array([3, 5]), array([ 6, 10]))\n",
      "(array([1, 2]), array([2, 4]))\n",
      "(array([9, 7]), array([18, 14]))\n",
      "(array([8, 6]), array([16, 12]))\n",
      "(array([6, 2]), array([12,  4]))\n",
      "(array([9, 4]), array([18,  8]))\n",
      "(array([3, 1]), array([6, 2]))\n",
      "(array([7, 8]), array([14, 16]))\n",
      "(array([2, 7]), array([ 4, 14]))\n",
      "(array([8, 4]), array([16,  8]))\n",
      "(array([9, 1]), array([18,  2]))\n",
      "(array([3, 5]), array([ 6, 10]))\n",
      "(array([9, 2]), array([18,  4]))\n",
      "(array([1, 3]), array([2, 6]))\n",
      "(array([7, 4]), array([14,  8]))\n",
      "(array([5, 8]), array([10, 16]))\n",
      "(array([4, 2]), array([8, 4]))\n",
      "(array([7, 1]), array([14,  2]))\n",
      "(array([3, 8]), array([ 6, 16]))\n",
      "(array([5, 9]), array([10, 18]))\n",
      "(array([5, 9]), array([10, 18]))\n",
      "(array([6, 4]), array([12,  8]))\n",
      "(array([8, 7]), array([16, 14]))\n",
      "(array([2, 3]), array([4, 6]))\n",
      "(array([3, 9]), array([ 6, 18]))\n",
      "(array([7, 2]), array([14,  4]))\n",
      "(array([5, 1]), array([10,  2]))\n",
      "(array([4, 6]), array([ 8, 12]))\n",
      "(array([5, 1]), array([10,  2]))\n",
      "(array([9, 6]), array([18, 12]))\n",
      "(array([4, 3]), array([8, 6]))\n",
      "(array([8, 7]), array([16, 14]))\n",
      "(array([3, 7]), array([ 6, 14]))\n",
      "(array([8, 9]), array([16, 18]))\n",
      "(array([5, 4]), array([10,  8]))\n",
      "(array([2, 1]), array([4, 2]))\n",
      "(array([1, 2]), array([2, 4]))\n",
      "(array([9, 7]), array([18, 14]))\n",
      "(array([5, 8]), array([10, 16]))\n",
      "(array([4, 3]), array([8, 6]))\n",
      "(array([1, 4]), array([2, 8]))\n",
      "(array([5, 3]), array([10,  6]))\n",
      "(array([6, 7]), array([12, 14]))\n",
      "(array([8, 9]), array([16, 18]))\n",
      "(array([1, 8]), array([ 2, 16]))\n",
      "(array([7, 4]), array([14,  8]))\n",
      "(array([2, 9]), array([ 4, 18]))\n",
      "(array([6, 3]), array([12,  6]))\n",
      "(array([3, 1]), array([6, 2]))\n",
      "(array([7, 5]), array([14, 10]))\n",
      "(array([8, 4]), array([16,  8]))\n",
      "(array([2, 6]), array([ 4, 12]))\n",
      "(array([5, 2]), array([10,  4]))\n",
      "(array([6, 8]), array([12, 16]))\n",
      "(array([7, 1]), array([14,  2]))\n",
      "(array([4, 9]), array([ 8, 18]))\n",
      "(array([4, 9]), array([ 8, 18]))\n",
      "(array([7, 1]), array([14,  2]))\n",
      "(array([8, 2]), array([16,  4]))\n",
      "(array([3, 5]), array([ 6, 10]))\n",
      "(array([4, 2]), array([8, 4]))\n",
      "(array([7, 5]), array([14, 10]))\n",
      "(array([1, 9]), array([ 2, 18]))\n",
      "(array([6, 3]), array([12,  6]))\n",
      "(array([5, 9]), array([10, 18]))\n",
      "(array([8, 4]), array([16,  8]))\n",
      "(array([1, 2]), array([2, 4]))\n",
      "(array([7, 6]), array([14, 12]))\n",
      "(array([3, 2]), array([6, 4]))\n",
      "(array([6, 8]), array([12, 16]))\n",
      "(array([1, 5]), array([ 2, 10]))\n",
      "(array([4, 9]), array([ 8, 18]))\n",
      "(array([2, 7]), array([ 4, 14]))\n",
      "(array([8, 5]), array([16, 10]))\n",
      "(array([4, 6]), array([ 8, 12]))\n",
      "(array([1, 3]), array([2, 6]))\n",
      "(array([2, 9]), array([ 4, 18]))\n",
      "(array([1, 8]), array([ 2, 16]))\n",
      "(array([3, 7]), array([ 6, 14]))\n",
      "(array([5, 6]), array([10, 12]))\n",
      "(array([9, 8]), array([18, 16]))\n",
      "(array([7, 6]), array([14, 12]))\n",
      "(array([1, 2]), array([2, 4]))\n",
      "(array([5, 3]), array([10,  6]))\n",
      "(array([3, 6]), array([ 6, 12]))\n",
      "(array([1, 7]), array([ 2, 14]))\n",
      "(array([5, 8]), array([10, 16]))\n",
      "(array([4, 2]), array([8, 4]))\n",
      "(array([5, 3]), array([10,  6]))\n",
      "(array([2, 6]), array([ 4, 12]))\n",
      "(array([9, 1]), array([18,  2]))\n",
      "(array([7, 4]), array([14,  8]))\n",
      "(array([1, 4]), array([2, 8]))\n"
     ]
    }
   ],
   "source": [
    "i = 0\n",
    "for g in gen:\n",
    "    print(g)\n",
    "    i += 1\n",
    "    if i > 100:\n",
    "        break"
   ]
  },
  {
   "cell_type": "code",
   "execution_count": 69,
   "metadata": {
    "collapsed": false,
    "deletable": true,
    "editable": true
   },
   "outputs": [
    {
     "data": {
      "text/plain": [
       "(array([5, 9]), array([10, 18]))"
      ]
     },
     "execution_count": 69,
     "metadata": {},
     "output_type": "execute_result"
    }
   ],
   "source": [
    "next(gen)"
   ]
  },
  {
   "cell_type": "code",
   "execution_count": 70,
   "metadata": {
    "collapsed": false
   },
   "outputs": [
    {
     "ename": "ModuleNotFoundError",
     "evalue": "No module named 'mlpy'",
     "output_type": "error",
     "traceback": [
      "\u001b[0;31m---------------------------------------------------------------------------\u001b[0m",
      "\u001b[0;31mModuleNotFoundError\u001b[0m                       Traceback (most recent call last)",
      "\u001b[0;32m<ipython-input-70-87822abcb9f6>\u001b[0m in \u001b[0;36m<module>\u001b[0;34m()\u001b[0m\n\u001b[0;32m----> 1\u001b[0;31m \u001b[0;32mfrom\u001b[0m \u001b[0mmlpy\u001b[0m \u001b[0;32mimport\u001b[0m \u001b[0mLinearRegression\u001b[0m\u001b[0;34m,\u001b[0m \u001b[0mZeroRuleRegression\u001b[0m\u001b[0;34m,\u001b[0m \u001b[0maccuracy_score\u001b[0m\u001b[0;34m,\u001b[0m \u001b[0mtrain_test_split\u001b[0m\u001b[0;34m\u001b[0m\u001b[0m\n\u001b[0m",
      "\u001b[0;31mModuleNotFoundError\u001b[0m: No module named 'mlpy'"
     ]
    }
   ],
   "source": [
    "from mlpy import LinearRegression, ZeroRuleRegression, accuracy_score, train_test_split"
   ]
  },
  {
   "cell_type": "code",
   "execution_count": null,
   "metadata": {
    "collapsed": true
   },
   "outputs": [],
   "source": []
  }
 ],
 "metadata": {
  "kernelspec": {
   "display_name": "Python 3",
   "language": "python",
   "name": "python3"
  },
  "language_info": {
   "codemirror_mode": {
    "name": "ipython",
    "version": 3
   },
   "file_extension": ".py",
   "mimetype": "text/x-python",
   "name": "python",
   "nbconvert_exporter": "python",
   "pygments_lexer": "ipython3",
   "version": "3.6.1"
  }
 },
 "nbformat": 4,
 "nbformat_minor": 2
}
